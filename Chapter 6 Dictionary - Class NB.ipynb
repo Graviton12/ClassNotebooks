{
 "cells": [
  {
   "cell_type": "markdown",
   "id": "73943399",
   "metadata": {},
   "source": [
    "# 6. Working with Dictionaries\n",
    "* A dictionary in Python is a collection of key-value pairs. \n",
    "* Each key is connected to a value, and you can use a key to access the value associated with that key.\n",
    "* A key’s value can be a number, a string, a list, or even another dictionary.\n",
    "\n",
    "* `Key` is the unique identifier to find data and the `value` is the data\n",
    "\n",
    "* A dictionary is a collection which is ordered*, changeable and does not allow duplicates.\n",
    "\n",
    "* Unlike strings, lists, and tuples, **dictionaries are not sequences** - the data are not stored in order. \n",
    "* List can be represented by [ ], Tuple can be represented by ( ), Dictionary  can be represented by { }"
   ]
  },
  {
   "cell_type": "code",
   "execution_count": 1,
   "id": "05999d3a",
   "metadata": {},
   "outputs": [
    {
     "data": {
      "text/plain": [
       "dict"
      ]
     },
     "execution_count": 1,
     "metadata": {},
     "output_type": "execute_result"
    }
   ],
   "source": [
    "data={} #empty dictionary\n",
    "type(data)"
   ]
  },
  {
   "cell_type": "code",
   "execution_count": 2,
   "id": "88e3e9ba",
   "metadata": {},
   "outputs": [
    {
     "data": {
      "text/plain": [
       "dict"
      ]
     },
     "execution_count": 2,
     "metadata": {},
     "output_type": "execute_result"
    }
   ],
   "source": [
    "data1=dict() #empty dictionary\n",
    "type(data1)"
   ]
  },
  {
   "cell_type": "markdown",
   "id": "4be8c616",
   "metadata": {},
   "source": [
    "### Access `values` from a dictionary using key\n",
    "* Key and values can be any data types\n",
    "* Accessing key value not present in dictionary generated KeyError"
   ]
  },
  {
   "cell_type": "code",
   "execution_count": 3,
   "id": "5d25b2cb",
   "metadata": {},
   "outputs": [],
   "source": [
    "data={'Alabama':'Montegomery',\n",
    "     'Arizona':'Pheonix',\n",
    "     'Georgia':'Atlanta',\n",
    "     'Kentucky':'Frankfort',\n",
    "     'Ohio':'Salem'} #Key:Value"
   ]
  },
  {
   "cell_type": "code",
   "execution_count": 4,
   "id": "416f6987",
   "metadata": {},
   "outputs": [
    {
     "data": {
      "text/plain": [
       "'Frankfort'"
      ]
     },
     "execution_count": 4,
     "metadata": {},
     "output_type": "execute_result"
    }
   ],
   "source": [
    "data['Kentucky']"
   ]
  },
  {
   "cell_type": "code",
   "execution_count": 5,
   "id": "7dd031b1",
   "metadata": {},
   "outputs": [
    {
     "data": {
      "text/plain": [
       "'Montegomery'"
      ]
     },
     "execution_count": 5,
     "metadata": {},
     "output_type": "execute_result"
    }
   ],
   "source": [
    "data['Alabama']"
   ]
  },
  {
   "cell_type": "code",
   "execution_count": 6,
   "id": "aab3f949",
   "metadata": {},
   "outputs": [
    {
     "ename": "KeyError",
     "evalue": "'Louisiana'",
     "output_type": "error",
     "traceback": [
      "\u001b[1;31m---------------------------------------------------------------------------\u001b[0m",
      "\u001b[1;31mKeyError\u001b[0m                                  Traceback (most recent call last)",
      "\u001b[1;32m~\\AppData\\Local\\Temp\\ipykernel_5532\\206421012.py\u001b[0m in \u001b[0;36m<module>\u001b[1;34m\u001b[0m\n\u001b[1;32m----> 1\u001b[1;33m \u001b[0mdata\u001b[0m\u001b[1;33m[\u001b[0m\u001b[1;34m'Louisiana'\u001b[0m\u001b[1;33m]\u001b[0m \u001b[1;31m#If you are accesssing a key which is not present, it raises a keyError\u001b[0m\u001b[1;33m\u001b[0m\u001b[1;33m\u001b[0m\u001b[0m\n\u001b[0m",
      "\u001b[1;31mKeyError\u001b[0m: 'Louisiana'"
     ]
    }
   ],
   "source": [
    "data['Louisiana'] #If you are accesssing a key which is not present, it raises a keyError"
   ]
  },
  {
   "cell_type": "markdown",
   "id": "bc6af6fc",
   "metadata": {},
   "source": [
    "### Update elements of a dictionary and add new elements"
   ]
  },
  {
   "cell_type": "code",
   "execution_count": 44,
   "id": "f62f227f",
   "metadata": {},
   "outputs": [],
   "source": [
    "day={1: 'Monday',\n",
    "    2: 'Tuesday',\n",
    "    4:['Thursday','Friday'],\n",
    "    5: ('Saturday','Sunday')}"
   ]
  },
  {
   "cell_type": "code",
   "execution_count": 45,
   "id": "560dd19f",
   "metadata": {},
   "outputs": [
    {
     "data": {
      "text/plain": [
       "'Monday'"
      ]
     },
     "execution_count": 45,
     "metadata": {},
     "output_type": "execute_result"
    }
   ],
   "source": [
    "#Monday\n",
    "day[1]"
   ]
  },
  {
   "cell_type": "code",
   "execution_count": 46,
   "id": "7f07b100",
   "metadata": {},
   "outputs": [
    {
     "data": {
      "text/plain": [
       "'Friday'"
      ]
     },
     "execution_count": 46,
     "metadata": {},
     "output_type": "execute_result"
    }
   ],
   "source": [
    "#Friday\n",
    "day[4][1] #[Key][Index]"
   ]
  },
  {
   "cell_type": "code",
   "execution_count": 47,
   "id": "e30ad316",
   "metadata": {},
   "outputs": [
    {
     "data": {
      "text/plain": [
       "'Saturday'"
      ]
     },
     "execution_count": 47,
     "metadata": {},
     "output_type": "execute_result"
    }
   ],
   "source": [
    "#Saturday\n",
    "day[5][0]"
   ]
  },
  {
   "cell_type": "code",
   "execution_count": 48,
   "id": "1691c40d",
   "metadata": {},
   "outputs": [
    {
     "data": {
      "text/plain": [
       "['Thursday', 'Friday']"
      ]
     },
     "execution_count": 48,
     "metadata": {},
     "output_type": "execute_result"
    }
   ],
   "source": [
    "#[Thursday, Friday]\n",
    "day[4]"
   ]
  },
  {
   "cell_type": "markdown",
   "id": "76de9675",
   "metadata": {},
   "source": [
    "#### Update values as key is unique and imutable, value is mutable"
   ]
  },
  {
   "cell_type": "code",
   "execution_count": 12,
   "id": "04bb4bf9",
   "metadata": {},
   "outputs": [
    {
     "ename": "TypeError",
     "evalue": "'tuple' object does not support item assignment",
     "output_type": "error",
     "traceback": [
      "\u001b[1;31m---------------------------------------------------------------------------\u001b[0m",
      "\u001b[1;31mTypeError\u001b[0m                                 Traceback (most recent call last)",
      "\u001b[1;32m~\\AppData\\Local\\Temp\\ipykernel_5532\\1200220088.py\u001b[0m in \u001b[0;36m<module>\u001b[1;34m\u001b[0m\n\u001b[0;32m      1\u001b[0m \u001b[1;31m#Update Sunday to Holiday\u001b[0m\u001b[1;33m\u001b[0m\u001b[1;33m\u001b[0m\u001b[0m\n\u001b[1;32m----> 2\u001b[1;33m \u001b[0mday\u001b[0m\u001b[1;33m[\u001b[0m\u001b[1;36m5\u001b[0m\u001b[1;33m]\u001b[0m\u001b[1;33m[\u001b[0m\u001b[1;36m1\u001b[0m\u001b[1;33m]\u001b[0m\u001b[1;33m=\u001b[0m\u001b[1;34m'Holiday'\u001b[0m \u001b[1;31m#Tuple update not possible\u001b[0m\u001b[1;33m\u001b[0m\u001b[1;33m\u001b[0m\u001b[0m\n\u001b[0m",
      "\u001b[1;31mTypeError\u001b[0m: 'tuple' object does not support item assignment"
     ]
    }
   ],
   "source": [
    "#Update Sunday to Holiday\n",
    "day[5][1]='Holiday' #Tuple update not possible\n"
   ]
  },
  {
   "cell_type": "code",
   "execution_count": 13,
   "id": "5712c6b2",
   "metadata": {},
   "outputs": [],
   "source": [
    "#Update Thursday to Holiday\n",
    "day[4][0]='Holiday'"
   ]
  },
  {
   "cell_type": "code",
   "execution_count": 14,
   "id": "ff4364ce",
   "metadata": {},
   "outputs": [],
   "source": [
    "#Update Monday to Holiday\n",
    "day[1]='Holiday'"
   ]
  },
  {
   "cell_type": "code",
   "execution_count": 15,
   "id": "7dc667ac",
   "metadata": {},
   "outputs": [
    {
     "data": {
      "text/plain": [
       "{1: 'Holiday',\n",
       " 2: 'Tuesday',\n",
       " 4: ['Holiday', 'Friday'],\n",
       " 5: ('Saturday', 'Sunday')}"
      ]
     },
     "execution_count": 15,
     "metadata": {},
     "output_type": "execute_result"
    }
   ],
   "source": [
    "day"
   ]
  },
  {
   "cell_type": "markdown",
   "id": "f7bb990f",
   "metadata": {},
   "source": [
    "### `get` and `update` methods"
   ]
  },
  {
   "cell_type": "code",
   "execution_count": 16,
   "id": "071c6f12",
   "metadata": {},
   "outputs": [
    {
     "data": {
      "text/plain": [
       "{'Alabama': 'Montegomery',\n",
       " 'Arizona': 'Pheonix',\n",
       " 'Georgia': 'Atlanta',\n",
       " 'Kentucky': 'Frankfort',\n",
       " 'Ohio': 'Salem'}"
      ]
     },
     "execution_count": 16,
     "metadata": {},
     "output_type": "execute_result"
    }
   ],
   "source": [
    "data"
   ]
  },
  {
   "cell_type": "code",
   "execution_count": 17,
   "id": "10cd3add",
   "metadata": {},
   "outputs": [
    {
     "data": {
      "text/plain": [
       "'Pheonix'"
      ]
     },
     "execution_count": 17,
     "metadata": {},
     "output_type": "execute_result"
    }
   ],
   "source": [
    "data.get('Arizona') #.get looking for the key to return the valye"
   ]
  },
  {
   "cell_type": "code",
   "execution_count": 18,
   "id": "afdf81cb",
   "metadata": {},
   "outputs": [],
   "source": [
    "data.get('Louisiana') #not generating an error and that's how it is different from access an element by its key"
   ]
  },
  {
   "cell_type": "code",
   "execution_count": 19,
   "id": "c99acf1a",
   "metadata": {},
   "outputs": [
    {
     "name": "stdout",
     "output_type": "stream",
     "text": [
      "{'Alabama': 'Montegomery', 'Arizona': 'Pheonix', 'Georgia': 'Atlanta', 'Kentucky': 'Frankfort', 'Ohio': 'Salem'}\n"
     ]
    }
   ],
   "source": [
    "#Update old value to new and add new key vlue pair\n",
    "print(data)\n",
    "data.update({'Kentucky':'Louisville', 'Louisiana':'Baton Rouge'})"
   ]
  },
  {
   "cell_type": "code",
   "execution_count": 20,
   "id": "1f50048f",
   "metadata": {},
   "outputs": [
    {
     "name": "stdout",
     "output_type": "stream",
     "text": [
      "{'Alabama': 'Montegomery', 'Arizona': 'Pheonix', 'Georgia': 'Atlanta', 'Kentucky': 'Louisville', 'Ohio': 'Salem', 'Louisiana': 'Baton Rouge'}\n"
     ]
    }
   ],
   "source": [
    "print(data)"
   ]
  },
  {
   "cell_type": "code",
   "execution_count": 21,
   "id": "dd6a8ab1",
   "metadata": {},
   "outputs": [
    {
     "name": "stdout",
     "output_type": "stream",
     "text": [
      "{'Alabama': 'Montegomery', 'Arizona': 'Pheonix', 'Georgia': 'Atlanta', 'Kentucky': 'Louisville', 'Ohio': 'Salem', 'Louisiana': 'Baton Rouge', 'alabama': 'Montegomery'}\n"
     ]
    }
   ],
   "source": [
    "data.update({'alabama':'Montegomery'}) #only way to update key\n",
    "print(data)"
   ]
  },
  {
   "cell_type": "markdown",
   "id": "18536626",
   "metadata": {},
   "source": [
    "### Delete dictionary items using `del` and `pop`"
   ]
  },
  {
   "cell_type": "code",
   "execution_count": 22,
   "id": "ebc3b904",
   "metadata": {},
   "outputs": [
    {
     "data": {
      "text/plain": [
       "{'Alabama': 'Montegomery',\n",
       " 'Arizona': 'Pheonix',\n",
       " 'Georgia': 'Atlanta',\n",
       " 'Kentucky': 'Louisville',\n",
       " 'Ohio': 'Salem',\n",
       " 'Louisiana': 'Baton Rouge',\n",
       " 'alabama': 'Montegomery'}"
      ]
     },
     "execution_count": 22,
     "metadata": {},
     "output_type": "execute_result"
    }
   ],
   "source": [
    "data"
   ]
  },
  {
   "cell_type": "code",
   "execution_count": 23,
   "id": "fc64b2ed",
   "metadata": {},
   "outputs": [],
   "source": [
    "del data['Alabama'] #old Alabama deleted"
   ]
  },
  {
   "cell_type": "code",
   "execution_count": 24,
   "id": "e3993e4c",
   "metadata": {},
   "outputs": [
    {
     "data": {
      "text/plain": [
       "{'Arizona': 'Pheonix',\n",
       " 'Georgia': 'Atlanta',\n",
       " 'Kentucky': 'Louisville',\n",
       " 'Ohio': 'Salem',\n",
       " 'Louisiana': 'Baton Rouge',\n",
       " 'alabama': 'Montegomery'}"
      ]
     },
     "execution_count": 24,
     "metadata": {},
     "output_type": "execute_result"
    }
   ],
   "source": [
    "data"
   ]
  },
  {
   "cell_type": "code",
   "execution_count": 25,
   "id": "d774e80b",
   "metadata": {},
   "outputs": [
    {
     "name": "stdout",
     "output_type": "stream",
     "text": [
      "Deleted capitol: Pheonix\n"
     ]
    }
   ],
   "source": [
    "delete_state=data.pop('Arizona')\n",
    "print('Deleted capitol:', delete_state)"
   ]
  },
  {
   "cell_type": "code",
   "execution_count": 26,
   "id": "8c90c538",
   "metadata": {},
   "outputs": [
    {
     "data": {
      "text/plain": [
       "{'Georgia': 'Atlanta',\n",
       " 'Kentucky': 'Louisville',\n",
       " 'Ohio': 'Salem',\n",
       " 'Louisiana': 'Baton Rouge',\n",
       " 'alabama': 'Montegomery'}"
      ]
     },
     "execution_count": 26,
     "metadata": {},
     "output_type": "execute_result"
    }
   ],
   "source": [
    "data"
   ]
  },
  {
   "cell_type": "code",
   "execution_count": 27,
   "id": "cbf5a767",
   "metadata": {},
   "outputs": [
    {
     "data": {
      "text/plain": [
       "{'Georgia': 'Atlanta',\n",
       " 'Kentucky': 'Louisville',\n",
       " 'Louisiana': 'Baton Rouge',\n",
       " 'alabama': 'Montegomery'}"
      ]
     },
     "execution_count": 27,
     "metadata": {},
     "output_type": "execute_result"
    }
   ],
   "source": [
    "#delete salem, Ohio\n",
    "data.pop('Ohio')\n",
    "data"
   ]
  },
  {
   "cell_type": "code",
   "execution_count": 28,
   "id": "6778e304",
   "metadata": {},
   "outputs": [
    {
     "name": "stdout",
     "output_type": "stream",
     "text": [
      "Montegomery\n",
      "{'Georgia': 'Atlanta', 'Kentucky': 'Louisville', 'Louisiana': 'Baton Rouge'}\n"
     ]
    }
   ],
   "source": [
    "#delete montegomery, alabama\n",
    "deleted_capitol=data.pop('alabama')\n",
    "print(deleted_capitol)\n",
    "print(data)"
   ]
  },
  {
   "cell_type": "code",
   "execution_count": 29,
   "id": "b81ffaa2",
   "metadata": {},
   "outputs": [],
   "source": [
    "del data #entire dictionary deleted"
   ]
  },
  {
   "cell_type": "code",
   "execution_count": 30,
   "id": "aa2d4085",
   "metadata": {},
   "outputs": [
    {
     "ename": "NameError",
     "evalue": "name 'data' is not defined",
     "output_type": "error",
     "traceback": [
      "\u001b[1;31m---------------------------------------------------------------------------\u001b[0m",
      "\u001b[1;31mNameError\u001b[0m                                 Traceback (most recent call last)",
      "\u001b[1;32m~\\AppData\\Local\\Temp\\ipykernel_5532\\391604064.py\u001b[0m in \u001b[0;36m<module>\u001b[1;34m\u001b[0m\n\u001b[1;32m----> 1\u001b[1;33m \u001b[0mdata\u001b[0m\u001b[1;33m\u001b[0m\u001b[1;33m\u001b[0m\u001b[0m\n\u001b[0m",
      "\u001b[1;31mNameError\u001b[0m: name 'data' is not defined"
     ]
    }
   ],
   "source": [
    "data"
   ]
  },
  {
   "cell_type": "markdown",
   "id": "610aae76",
   "metadata": {},
   "source": [
    "### Number of elements in the dictionary and extracting `keys()`, `values()`, `items()`"
   ]
  },
  {
   "cell_type": "code",
   "execution_count": 31,
   "id": "f13bd3ba",
   "metadata": {},
   "outputs": [],
   "source": [
    "data={'Alabama':'Montegomery',\n",
    "     'Arizona':'Pheonix',\n",
    "     'Georgia':'Atlanta',\n",
    "     'Kentucky':'Frankfort',\n",
    "     'Ohio':'Salem'} #Key:Value"
   ]
  },
  {
   "cell_type": "code",
   "execution_count": 32,
   "id": "1d31365f",
   "metadata": {},
   "outputs": [
    {
     "data": {
      "text/plain": [
       "5"
      ]
     },
     "execution_count": 32,
     "metadata": {},
     "output_type": "execute_result"
    }
   ],
   "source": [
    "#Number of elements/value in a dictionary\n",
    "len(data)"
   ]
  },
  {
   "cell_type": "code",
   "execution_count": 33,
   "id": "0db183c4",
   "metadata": {},
   "outputs": [
    {
     "name": "stdout",
     "output_type": "stream",
     "text": [
      "dict_keys(['Alabama', 'Arizona', 'Georgia', 'Kentucky', 'Ohio'])\n"
     ]
    },
    {
     "data": {
      "text/plain": [
       "dict_keys"
      ]
     },
     "execution_count": 33,
     "metadata": {},
     "output_type": "execute_result"
    }
   ],
   "source": [
    "#Extract keys\n",
    "print(data.keys())\n",
    "type(data.keys())"
   ]
  },
  {
   "cell_type": "code",
   "execution_count": 34,
   "id": "a1c19204",
   "metadata": {},
   "outputs": [
    {
     "name": "stdout",
     "output_type": "stream",
     "text": [
      "dict_values(['Montegomery', 'Pheonix', 'Atlanta', 'Frankfort', 'Salem'])\n"
     ]
    },
    {
     "data": {
      "text/plain": [
       "dict_values"
      ]
     },
     "execution_count": 34,
     "metadata": {},
     "output_type": "execute_result"
    }
   ],
   "source": [
    "#Extract values\n",
    "print(data.values())\n",
    "type(data.values())"
   ]
  },
  {
   "cell_type": "code",
   "execution_count": 35,
   "id": "7e177ed5",
   "metadata": {},
   "outputs": [
    {
     "name": "stdout",
     "output_type": "stream",
     "text": [
      "dict_items([('Alabama', 'Montegomery'), ('Arizona', 'Pheonix'), ('Georgia', 'Atlanta'), ('Kentucky', 'Frankfort'), ('Ohio', 'Salem')])\n"
     ]
    },
    {
     "data": {
      "text/plain": [
       "dict_items"
      ]
     },
     "execution_count": 35,
     "metadata": {},
     "output_type": "execute_result"
    }
   ],
   "source": [
    "#Extract item/Key value pair\n",
    "print(data.items())\n",
    "type(data.items())"
   ]
  },
  {
   "cell_type": "markdown",
   "id": "ab9e78f2",
   "metadata": {},
   "source": [
    "### Loop through a dictionary"
   ]
  },
  {
   "cell_type": "code",
   "execution_count": 36,
   "id": "941bf04e",
   "metadata": {},
   "outputs": [
    {
     "data": {
      "text/plain": [
       "{'Alabama': 'Montegomery',\n",
       " 'Arizona': 'Pheonix',\n",
       " 'Georgia': 'Atlanta',\n",
       " 'Kentucky': 'Frankfort',\n",
       " 'Ohio': 'Salem'}"
      ]
     },
     "execution_count": 36,
     "metadata": {},
     "output_type": "execute_result"
    }
   ],
   "source": [
    "data"
   ]
  },
  {
   "cell_type": "code",
   "execution_count": 37,
   "id": "fe239e39",
   "metadata": {},
   "outputs": [
    {
     "name": "stdout",
     "output_type": "stream",
     "text": [
      "Alabama\n",
      "<class 'str'>\n",
      "Arizona\n",
      "<class 'str'>\n",
      "Georgia\n",
      "<class 'str'>\n",
      "Kentucky\n",
      "<class 'str'>\n",
      "Ohio\n",
      "<class 'str'>\n"
     ]
    }
   ],
   "source": [
    "#loop through the dictionary keys\n",
    "for i in data.keys(): #unpack dict items\n",
    "    print(i)\n",
    "    print(type(i))"
   ]
  },
  {
   "cell_type": "code",
   "execution_count": 38,
   "id": "c0746d46",
   "metadata": {},
   "outputs": [
    {
     "name": "stdout",
     "output_type": "stream",
     "text": [
      "Montegomery\n",
      "<class 'str'>\n",
      "Pheonix\n",
      "<class 'str'>\n",
      "Atlanta\n",
      "<class 'str'>\n",
      "Frankfort\n",
      "<class 'str'>\n",
      "Salem\n",
      "<class 'str'>\n"
     ]
    }
   ],
   "source": [
    "#loop through the dictionary values\n",
    "for j in data.values():\n",
    "    print(j)\n",
    "    print(type(j))"
   ]
  },
  {
   "cell_type": "code",
   "execution_count": 39,
   "id": "e07995b1",
   "metadata": {},
   "outputs": [
    {
     "name": "stdout",
     "output_type": "stream",
     "text": [
      "('Alabama', 'Montegomery')\n",
      "<class 'tuple'>\n",
      "('Arizona', 'Pheonix')\n",
      "<class 'tuple'>\n",
      "('Georgia', 'Atlanta')\n",
      "<class 'tuple'>\n",
      "('Kentucky', 'Frankfort')\n",
      "<class 'tuple'>\n",
      "('Ohio', 'Salem')\n",
      "<class 'tuple'>\n"
     ]
    }
   ],
   "source": [
    "#Loop through the dictionary items\n",
    "for k in data.items():\n",
    "    print(k)\n",
    "    print(type(k))"
   ]
  },
  {
   "cell_type": "code",
   "execution_count": 40,
   "id": "c047c5b8",
   "metadata": {},
   "outputs": [
    {
     "name": "stdout",
     "output_type": "stream",
     "text": [
      "State: Alabama Capitol: Montegomery\n",
      "<class 'str'> <class 'str'>\n",
      "State: Arizona Capitol: Pheonix\n",
      "<class 'str'> <class 'str'>\n",
      "State: Georgia Capitol: Atlanta\n",
      "<class 'str'> <class 'str'>\n",
      "State: Kentucky Capitol: Frankfort\n",
      "<class 'str'> <class 'str'>\n",
      "State: Ohio Capitol: Salem\n",
      "<class 'str'> <class 'str'>\n"
     ]
    }
   ],
   "source": [
    "#Tuple unpacking\n",
    "for i, j in data.items():\n",
    "    print(\"State:\", i, \"Capitol:\", j)\n",
    "    print(type(i), type(j))"
   ]
  },
  {
   "cell_type": "markdown",
   "id": "82ec7aff",
   "metadata": {},
   "source": [
    "### Convert dictionary values to lists using `list()` function"
   ]
  },
  {
   "cell_type": "code",
   "execution_count": 41,
   "id": "afcede6e",
   "metadata": {},
   "outputs": [
    {
     "data": {
      "text/plain": [
       "{'Alabama': 'Montegomery',\n",
       " 'Arizona': 'Pheonix',\n",
       " 'Georgia': 'Atlanta',\n",
       " 'Kentucky': 'Frankfort',\n",
       " 'Ohio': 'Salem'}"
      ]
     },
     "execution_count": 41,
     "metadata": {},
     "output_type": "execute_result"
    }
   ],
   "source": [
    "data"
   ]
  },
  {
   "cell_type": "code",
   "execution_count": 42,
   "id": "1513a1e3",
   "metadata": {},
   "outputs": [
    {
     "data": {
      "text/plain": [
       "['Montegomery', 'Pheonix', 'Atlanta', 'Frankfort', 'Salem']"
      ]
     },
     "execution_count": 42,
     "metadata": {},
     "output_type": "execute_result"
    }
   ],
   "source": [
    "list(data.values()) #converted values from dictionary to a list"
   ]
  },
  {
   "cell_type": "code",
   "execution_count": 43,
   "id": "59ec3714",
   "metadata": {},
   "outputs": [
    {
     "data": {
      "text/plain": [
       "('Alabama', 'Arizona', 'Georgia', 'Kentucky', 'Ohio')"
      ]
     },
     "execution_count": 43,
     "metadata": {},
     "output_type": "execute_result"
    }
   ],
   "source": [
    "tuple(data.keys()) #converted keys from dictioanry to a tuple"
   ]
  },
  {
   "cell_type": "markdown",
   "id": "d13131c6",
   "metadata": {},
   "source": [
    "### A List in a Dictionary"
   ]
  },
  {
   "cell_type": "code",
   "execution_count": 1,
   "id": "cd81cd95",
   "metadata": {},
   "outputs": [],
   "source": [
    "favorite_language={\n",
    "    'Jen':['Python','Ruby'],\n",
    "    'sarah':['C'],\n",
    "    'edward':['Ruby','Java'],\n",
    "    'Phil':['Python','Haskell']\n",
    "}"
   ]
  },
  {
   "cell_type": "code",
   "execution_count": 5,
   "id": "1d594da7",
   "metadata": {},
   "outputs": [
    {
     "name": "stdout",
     "output_type": "stream",
     "text": [
      "\n",
      "Jen's favorite languages are: \n",
      "\t\t\tPython\n",
      "\t\t\tRuby\n",
      "\n",
      "Sarah's favorite languages are: \n",
      "\t\t\tC\n",
      "\n",
      "Edward's favorite languages are: \n",
      "\t\t\tRuby\n",
      "\t\t\tJava\n",
      "\n",
      "Phil's favorite languages are: \n",
      "\t\t\tPython\n",
      "\t\t\tHaskell\n"
     ]
    }
   ],
   "source": [
    "for name, languages in favorite_language.items():\n",
    "    print(\"\\n\"+name.title()+\"\\'s favorite languages are: \")\n",
    "    #print(languages)\n",
    "    for i in languages:\n",
    "        print(\"\\t\\t\\t\"+i.title())"
   ]
  },
  {
   "cell_type": "code",
   "execution_count": null,
   "id": "e9a96ec4",
   "metadata": {},
   "outputs": [],
   "source": []
  },
  {
   "cell_type": "code",
   "execution_count": null,
   "id": "9796242d",
   "metadata": {},
   "outputs": [],
   "source": []
  },
  {
   "cell_type": "markdown",
   "id": "7543bcaf",
   "metadata": {},
   "source": [
    "###  A Dictionary in a Dictionary"
   ]
  },
  {
   "cell_type": "code",
   "execution_count": 6,
   "id": "5716262d",
   "metadata": {},
   "outputs": [],
   "source": [
    "user={\n",
    "    'einstein':{\n",
    "        'first':'albert',\n",
    "        'last':'einstein',\n",
    "        'location':'princeton',\n",
    "    },\n",
    "    'mcurie':{\n",
    "        'first':'mary',\n",
    "        'last':'curie',\n",
    "        'location':'paris',\n",
    "    }\n",
    "}"
   ]
  },
  {
   "cell_type": "code",
   "execution_count": 7,
   "id": "7aaca1c4",
   "metadata": {},
   "outputs": [
    {
     "data": {
      "text/plain": [
       "{'einstein': {'first': 'albert', 'last': 'einstein', 'location': 'princeton'},\n",
       " 'mcurie': {'first': 'mary', 'last': 'curie', 'location': 'paris'}}"
      ]
     },
     "execution_count": 7,
     "metadata": {},
     "output_type": "execute_result"
    }
   ],
   "source": [
    "user"
   ]
  },
  {
   "cell_type": "code",
   "execution_count": 14,
   "id": "110250f2",
   "metadata": {},
   "outputs": [
    {
     "name": "stdout",
     "output_type": "stream",
     "text": [
      "\n",
      "User Name:  einstein\n",
      "The full name is: Albert Einstein\n",
      "The location is: Princeton\n",
      "\n",
      "User Name:  mcurie\n",
      "The full name is: Mary Curie\n",
      "The location is: Paris\n"
     ]
    }
   ],
   "source": [
    "for username, user_info in user.items():\n",
    "    print(\"\\nUser Name: \", username)\n",
    "    full_name=user_info['first']+\" \"+user_info['last']\n",
    "    location=user_info['location']\n",
    "    \n",
    "    print(\"The full name is: \"+ full_name.title())\n",
    "    print(\"The location is: \"+ location.title())"
   ]
  },
  {
   "cell_type": "code",
   "execution_count": null,
   "id": "c8e2ea31",
   "metadata": {},
   "outputs": [],
   "source": []
  }
 ],
 "metadata": {
  "kernelspec": {
   "display_name": "Python 3 (ipykernel)",
   "language": "python",
   "name": "python3"
  },
  "language_info": {
   "codemirror_mode": {
    "name": "ipython",
    "version": 3
   },
   "file_extension": ".py",
   "mimetype": "text/x-python",
   "name": "python",
   "nbconvert_exporter": "python",
   "pygments_lexer": "ipython3",
   "version": "3.9.13"
  }
 },
 "nbformat": 4,
 "nbformat_minor": 5
}
