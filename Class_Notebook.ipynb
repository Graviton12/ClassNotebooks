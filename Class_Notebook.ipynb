{
 "cells": [
  {
   "cell_type": "markdown",
   "id": "4ef4485e",
   "metadata": {},
   "source": [
    "# Ch9 Classes"
   ]
  },
  {
   "cell_type": "markdown",
   "id": "7b465366",
   "metadata": {},
   "source": [
    "### Python is an object oriented programming language.\n",
    "- Almost everything in Python is an object, with its properties and methods (Functions).\n",
    "- A Class is like an object constructor, or a \"blueprint\" for creating objects."
   ]
  },
  {
   "cell_type": "code",
   "execution_count": 15,
   "id": "741b88de",
   "metadata": {},
   "outputs": [
    {
     "name": "stdout",
     "output_type": "stream",
     "text": [
      "The email of first employee: angy.hill@company.com\n",
      "First name of employee1: Angy\n",
      "last name of employee1: Hill\n",
      "age of employee1: 20\n",
      "The email of second employee: peter.white@company.com\n",
      "First name of employee2: Peter\n",
      "last name of employee2: White\n",
      "age of employee2: 35\n",
      "The full name: Angy Hill\n",
      "The full name: Peter White\n"
     ]
    }
   ],
   "source": [
    "class Employee(): #name of the class\n",
    "    #init is the constructor of the class. It is mandatory for a class construction \n",
    "    #self is used to represent the instance of the class\n",
    "    def __init__(self, first, last, age, dept): \n",
    "        #method/function\n",
    "        self.first=first.title() #first name in title case\n",
    "        self.last=last.title() #last name in title case\n",
    "        self.age=age\n",
    "        self.dept=dept.title() #department in title case\n",
    "        self.email=first.lower()+\".\"+last.lower()+\"@company.com\"\n",
    "    \n",
    "    #creating a method called fullname. It needs only the instance\n",
    "    def fullname(self):\n",
    "        print(f\"The full name: {self.first} {self.last}\")\n",
    "        \n",
    "#init will run automatically when you call the class        \n",
    "emp_1=Employee(\"angy\", \"hill\", 20, \"accounting\")\n",
    "emp_2=Employee(\"PETER\", \"WHITE\", 35, \"finance\")\n",
    "\n",
    "print(f\"The email of first employee: {emp_1.email}\")\n",
    "print(f\"First name of employee1: {emp_1.first}\")\n",
    "print(f\"last name of employee1: {emp_1.last}\")\n",
    "print(f\"age of employee1: {emp_1.age}\")\n",
    "\n",
    "print(f\"The email of second employee: {emp_2.email}\")\n",
    "print(f\"First name of employee2: {emp_2.first}\")\n",
    "print(f\"last name of employee2: {emp_2.last}\")\n",
    "print(f\"age of employee2: {emp_2.age}\")\n",
    "\n",
    "#print(f\"The full name of employee1 is {emp_1.first} {emp_1.last}\")\n",
    "#print(f\"The full name of employee2 is {emp_2.first} {emp_2.last}\")\n",
    "\n",
    "emp_1.fullname()\n",
    "emp_2.fullname()"
   ]
  },
  {
   "cell_type": "code",
   "execution_count": null,
   "id": "a9136cf8",
   "metadata": {},
   "outputs": [],
   "source": []
  },
  {
   "cell_type": "markdown",
   "id": "5d60f7c0",
   "metadata": {},
   "source": [
    "### Creating the Dog Class\n",
    "Each instance created from the Dog class will store a name and an age, and we’ll give each dog the ability to sit() and roll_over():"
   ]
  },
  {
   "cell_type": "code",
   "execution_count": 20,
   "id": "6e84155c",
   "metadata": {},
   "outputs": [
    {
     "name": "stdout",
     "output_type": "stream",
     "text": [
      "Shelly\n",
      "4\n",
      "Shelly is now sitting\n",
      "Shelly is rolled over\n",
      "Penny is now sitting\n",
      "Penny is rolled over\n",
      "Penny shaked a random person\n",
      "Penny is barking to a stranger\n",
      "Penny is now down\n"
     ]
    }
   ],
   "source": [
    "class Dog():\n",
    "    def __init__(self, name, age):\n",
    "        self.name=name.title()\n",
    "        self.age=age\n",
    "    def sit(self):\n",
    "        print(f\"{self.name} is now sitting\")\n",
    "    def roll_over(self):\n",
    "        print(f\"{self.name} is rolled over\")\n",
    "    def shake(self):\n",
    "        print(f\"{self.name} shaked a random person\")\n",
    "    def bark(self):\n",
    "        print(f\"{self.name} is barking to a stranger\")\n",
    "    def down(self):\n",
    "        print(f\"{self.name} is now down\")\n",
    "        \n",
    "dog1=Dog(\"Shelly\", 4)\n",
    "print(dog1.name)\n",
    "print(dog1.age)\n",
    "dog1.sit()\n",
    "dog1.roll_over()\n",
    "\n",
    "dog2=Dog(\"Penny\", 1)\n",
    "dog2.sit()\n",
    "dog2.roll_over()\n",
    "dog2.shake()\n",
    "dog2.bark()\n",
    "dog2.down()"
   ]
  },
  {
   "cell_type": "code",
   "execution_count": null,
   "id": "3c70e9c0",
   "metadata": {},
   "outputs": [],
   "source": []
  },
  {
   "cell_type": "markdown",
   "id": "8bbcc5c0",
   "metadata": {},
   "source": [
    "#### Note:\n",
    "- By convention, capitalized names refer to classes in Python. \n",
    "- The parentheses in the class definition are empty because we’re creating this class from scratch.\n",
    "- All classes have a function called __init__(), which is always executed when the class is being initiated.\n",
    "- Use the __init__() function to assign values to object properties, or other operations that are necessary to do when the object is being created\n",
    "- Any variable prefixed with `self` is available to every method in the class, and we’ll also be able to access these variables through any instance created from the class.\n",
    "- The Dog class has two other methods defined: sit() and roll_over().Because these methods don’t need additional information like a name or age, we just define them to have one parameter, self."
   ]
  },
  {
   "cell_type": "markdown",
   "id": "402f0696",
   "metadata": {},
   "source": [
    "### Restaurant: Make a class called Restaurant. The __init__() method for Restaurant should store two attributes: a restaurant_name and a cuisine_type.\n",
    "- Make a method called `describe_restaurant()` that prints name of teh restrurent and the cuisine type\n",
    "- and a method called open_restaurant() that prints a message indicating that the restaurant is open.\n",
    "- Make an instance called restaurant from your class. Print the two attributes individually, and then call both methods.\n"
   ]
  },
  {
   "cell_type": "code",
   "execution_count": 8,
   "id": "c4316b2d",
   "metadata": {},
   "outputs": [
    {
     "name": "stdout",
     "output_type": "stream",
     "text": [
      "Restaurant Name: The Mean Queen\n",
      "Cuisine Type: Pizza\n",
      "The Mean Queen serves wonderful Pizza.\n",
      "The Mean Queen is currently open! Come on in!!\n"
     ]
    }
   ],
   "source": [
    "class Restaurant():\n",
    "    def __init__(self, name, cuisine_type):\n",
    "        self.name=name.title()\n",
    "        self.cuisine_type=cuisine_type\n",
    "    def describe_restaurant(self):\n",
    "        print(f\"{self.name} serves wonderful {self.cuisine_type}.\")\n",
    "    def open_restaurant(self):\n",
    "        print(f\"{self.name} is currently open! Come on in!!\")\n",
    "restaurant1=Restaurant('The mean queen', 'Pizza')\n",
    "print(f\"Restaurant Name: {restaurant1.name}\")\n",
    "print(f\"Cuisine Type: {restaurant1.cuisine_type}\")\n",
    "restaurant1.describe_restaurant()\n",
    "restaurant1.open_restaurant()"
   ]
  },
  {
   "cell_type": "code",
   "execution_count": null,
   "id": "f9be3f46",
   "metadata": {},
   "outputs": [],
   "source": []
  },
  {
   "cell_type": "markdown",
   "id": "8b4a4fca",
   "metadata": {},
   "source": [
    "### - Create three different instances from the class, and call describe_restaurant() for each instance."
   ]
  },
  {
   "cell_type": "code",
   "execution_count": 10,
   "id": "b3845fe0",
   "metadata": {},
   "outputs": [
    {
     "name": "stdout",
     "output_type": "stream",
     "text": [
      "Apna Baazar serves wonderful Indian food.\n"
     ]
    }
   ],
   "source": [
    "restaurant2=Restaurant('Apna Baazar', 'Indian food')\n",
    "restaurant2.describe_restaurant()"
   ]
  },
  {
   "cell_type": "code",
   "execution_count": 11,
   "id": "e6aa8a33",
   "metadata": {},
   "outputs": [
    {
     "name": "stdout",
     "output_type": "stream",
     "text": [
      "Fiesta Time serves wonderful Mexican food.\n"
     ]
    }
   ],
   "source": [
    "restaurant3=Restaurant('Fiesta Time', 'Mexican food')\n",
    "restaurant3.describe_restaurant()"
   ]
  },
  {
   "cell_type": "code",
   "execution_count": 13,
   "id": "6b24e6f1",
   "metadata": {},
   "outputs": [
    {
     "name": "stdout",
     "output_type": "stream",
     "text": [
      "Raising Canes serves wonderful Fried Chicken.\n"
     ]
    }
   ],
   "source": [
    "restaurant4=Restaurant('Raising Canes', 'Fried Chicken')\n",
    "restaurant4.describe_restaurant()"
   ]
  },
  {
   "cell_type": "markdown",
   "id": "8f4032c6",
   "metadata": {},
   "source": [
    "### Users: Make a class called User. Create attributes called first_name and last_name, username, location \n",
    "- Make a method called describe_user() that prints a summary of the user’s information. \n",
    "- Make another method called greet_user() that prints a personalized greeting to the user.\n",
    "- Create several instances representing different users, and call both methods for each user."
   ]
  },
  {
   "cell_type": "code",
   "execution_count": 21,
   "id": "dda94ce2",
   "metadata": {},
   "outputs": [
    {
     "name": "stdout",
     "output_type": "stream",
     "text": [
      "\n",
      "The user Eric Mathews\n",
      "\tUsername: e_mathews\n",
      "\tLocation: Alaska\n",
      "\n",
      "Hello Eric! How are you today?\n"
     ]
    }
   ],
   "source": [
    "class User():\n",
    "    def __init__(self, first_name, last_name, username, location):\n",
    "        self.first_name=first_name.title()\n",
    "        self.last_name=last_name.title()\n",
    "        self.username=username\n",
    "        self.location=location.title()\n",
    "    def describe_user(self):\n",
    "        print(f\"\\nThe user {self.first_name} {self.last_name}\")\n",
    "        print(f\"\\tUsername: {self.username}\")\n",
    "        print(f\"\\tLocation: {self.location}\")\n",
    "    def greet_user(self):\n",
    "        print(f\"\\nHello {self.first_name}! How are you today?\")\n",
    "        \n",
    "user1=User('eric', 'mathews', 'e_mathews', 'alaska')\n",
    "user1.describe_user()\n",
    "user1.greet_user()"
   ]
  },
  {
   "cell_type": "code",
   "execution_count": 22,
   "id": "8864d617",
   "metadata": {},
   "outputs": [
    {
     "name": "stdout",
     "output_type": "stream",
     "text": [
      "\n",
      "The user Rosymar Hernandez\n",
      "\tUsername: rosy_h\n",
      "\tLocation: Kenctucky\n",
      "\n",
      "Hello Rosymar! How are you today?\n"
     ]
    }
   ],
   "source": [
    "user2=User('rosymar', 'hernandez', 'rosy_h', 'kentucky')\n",
    "user2.describe_user()\n",
    "user2.greet_user()"
   ]
  },
  {
   "cell_type": "markdown",
   "id": "8b5bfff2",
   "metadata": {},
   "source": [
    "## Setting a Default Value for an Attribute\n",
    "* Create a class called `car` which contains make, model, and year\n",
    "* Add the `odometer_reading` default to 0 (new car)\n",
    "* Create a method called `get_decriptive_name` which returns the car information\n",
    "* Create a method called `read_odometer` which will display the odometer reading of the car\n",
    "* Create two car attributes to test the code"
   ]
  },
  {
   "cell_type": "code",
   "execution_count": 29,
   "id": "bbdc7a10",
   "metadata": {},
   "outputs": [],
   "source": [
    "class car():\n",
    "    #Create a class called car which contains make, model, and year\n",
    "    def __init__(self, make, model, year):\n",
    "        self.make=make\n",
    "        self.model=model\n",
    "        self.year=year\n",
    "        #Add the odometer_reading default to 0 \n",
    "        self.odometer_reading=0\n",
    "    #Create a method called get_decriptive_name which returns the car information\n",
    "    def get_descriptive_name(self):\n",
    "        long_name=str(self.year)+ \" \"+self.make+ \" \"+self.model\n",
    "        return long_name\n",
    "    #Create a method called read_odometer which will display the odometer reading of the car\n",
    "    def read_odometer(self):\n",
    "        print(f\"This car has {self.odometer_reading} miles on it\")"
   ]
  },
  {
   "cell_type": "code",
   "execution_count": 31,
   "id": "35859896",
   "metadata": {},
   "outputs": [
    {
     "name": "stdout",
     "output_type": "stream",
     "text": [
      "My car: 2019 Nissan Versa\n",
      "My friend's car: 2018 Hyundai Elantra\n",
      "This car has 0 miles on it\n",
      "This car has 0 miles on it\n"
     ]
    }
   ],
   "source": [
    "my_car=car(\"Nissan\", \"Versa\", 2019)\n",
    "friends_car=car(\"Hyundai\", \"Elantra\", 2018)\n",
    "\n",
    "print(f\"My car: {my_car.get_descriptive_name()}\")\n",
    "print(f\"My friend's car: {friends_car.get_descriptive_name()}\")\n",
    "\n",
    "my_car.read_odometer()\n",
    "friends_car.read_odometer()"
   ]
  },
  {
   "cell_type": "markdown",
   "id": "d419b209",
   "metadata": {},
   "source": [
    "### Modifying the odometer reading without method"
   ]
  },
  {
   "cell_type": "markdown",
   "id": "3f840f3e",
   "metadata": {},
   "source": [
    "#### Modifying an Attribute’s Value Directly"
   ]
  },
  {
   "cell_type": "code",
   "execution_count": 32,
   "id": "86cf8081",
   "metadata": {},
   "outputs": [
    {
     "name": "stdout",
     "output_type": "stream",
     "text": [
      "This car has 23 miles on it\n"
     ]
    }
   ],
   "source": [
    "my_car.odometer_reading=23 #overide the default value\n",
    "my_car.read_odometer()"
   ]
  },
  {
   "cell_type": "code",
   "execution_count": 42,
   "id": "d907543d",
   "metadata": {},
   "outputs": [
    {
     "name": "stdout",
     "output_type": "stream",
     "text": [
      "This car has 10 miles on it\n"
     ]
    }
   ],
   "source": [
    "friends_car.odometer_reading=10\n",
    "friends_car.read_odometer()"
   ]
  },
  {
   "cell_type": "code",
   "execution_count": null,
   "id": "2f382418",
   "metadata": {},
   "outputs": [],
   "source": []
  },
  {
   "cell_type": "markdown",
   "id": "27f8f244",
   "metadata": {},
   "source": [
    "### Modifying an Attribute’s Value Through a Method"
   ]
  },
  {
   "cell_type": "code",
   "execution_count": 52,
   "id": "9b3ae956",
   "metadata": {},
   "outputs": [],
   "source": [
    "class car():\n",
    "    #Create a class called car which contains make, model, and year\n",
    "    def __init__(self, make, model, year):\n",
    "        self.make=make\n",
    "        self.model=model\n",
    "        self.year=year\n",
    "        #Add the odometer_reading default to 0 \n",
    "        self.odometer_reading=0\n",
    "    #Create a method called get_decriptive_name which returns the car information\n",
    "    def get_descriptive_name(self):\n",
    "        long_name=str(self.year)+\" \"+self.make+\" \"+self.model\n",
    "        return long_name\n",
    "    #Create a method called read_odometer which will display the odometer reading of the car\n",
    "    def read_odometer(self):\n",
    "        print(f\"This car has {self.odometer_reading} miles on it\")\n",
    "    def update_odometer(self, mileage):\n",
    "        self.odometer_reading=mileage\n",
    "        print(f\"The current odometer reading {self.odometer_reading}\")"
   ]
  },
  {
   "cell_type": "code",
   "execution_count": 54,
   "id": "3c3c57c2",
   "metadata": {},
   "outputs": [
    {
     "name": "stdout",
     "output_type": "stream",
     "text": [
      "The car information 2019 Nissan Versa\n",
      "This car has 0 miles on it\n",
      "The current odometer reading 23\n"
     ]
    }
   ],
   "source": [
    "my_car=car(\"Nissan\", \"Versa\", 2019)\n",
    "print(\"The car information\", my_car.get_descriptive_name())\n",
    "my_car.read_odometer()\n",
    "my_car.update_odometer(23)"
   ]
  },
  {
   "cell_type": "code",
   "execution_count": 45,
   "id": "afeff7c9",
   "metadata": {},
   "outputs": [
    {
     "name": "stdout",
     "output_type": "stream",
     "text": [
      "This car has 0 miles on it\n"
     ]
    }
   ],
   "source": [
    "my_car.read_odometer()"
   ]
  },
  {
   "cell_type": "markdown",
   "id": "fd560131",
   "metadata": {},
   "source": [
    "### Incrementing an Attribute’s Value Through a Method"
   ]
  },
  {
   "cell_type": "code",
   "execution_count": 59,
   "id": "8d76b884",
   "metadata": {},
   "outputs": [],
   "source": [
    "class car():\n",
    "    #Create a class called car which contains make, model, and year\n",
    "    def __init__(self, make, model, year):\n",
    "        self.make=make\n",
    "        self.model=model\n",
    "        self.year=year\n",
    "        #Add the odometer_reading default to 0 \n",
    "        self.odometer_reading=0\n",
    "    #Create a method called get_decriptive_name which returns the car information\n",
    "    def get_descriptive_name(self):\n",
    "        long_name=str(self.year)+\" \"+self.make+\" \"+self.model\n",
    "        return long_name\n",
    "    #Create a method called read_odometer which will display the odometer reading of the car\n",
    "    def read_odometer(self):\n",
    "        print(f\"This car has {self.odometer_reading} miles on it\")\n",
    "    def update_odometer(self, mileage):\n",
    "        self.odometer_reading=mileage\n",
    "        print(f\"The current odometer reading {self.odometer_reading}\")\n",
    "    def incrimental_odemeter(self, miles):\n",
    "        self.odometer_reading+=miles\n",
    "        print(f\"The updated odometer reading {self.odometer_reading}\")"
   ]
  },
  {
   "cell_type": "code",
   "execution_count": 60,
   "id": "1500c7e7",
   "metadata": {},
   "outputs": [
    {
     "name": "stdout",
     "output_type": "stream",
     "text": [
      "The car information 2019 Nissan Versa\n",
      "This car has 0 miles on it\n",
      "The current odometer reading 23\n",
      "The updated odometer reading 123\n",
      "The updated odometer reading 1123\n"
     ]
    }
   ],
   "source": [
    "my_car=car(\"Nissan\", \"Versa\", 2019)\n",
    "print(\"The car information\", my_car.get_descriptive_name())\n",
    "my_car.read_odometer()\n",
    "my_car.update_odometer(23)\n",
    "my_car.incrimental_odemeter(100)\n",
    "my_car.incrimental_odemeter(1000)"
   ]
  },
  {
   "cell_type": "markdown",
   "id": "b96f0d18",
   "metadata": {},
   "source": [
    "# Inheritance\n",
    "- You don’t always have to start from scratch when writing a class. If the class you’re writing is a specialized version of another class you wrote, you can use inheritance. \n",
    "- When one class inherits from another, it automatically takes on all the attributes and methods of the first class. The original class is called the `parent class`, and the new class is the `child class`. \n",
    "- The child class inherits every attribute and method from its parent class but is also free to define new attributes and methods of its own."
   ]
  },
  {
   "cell_type": "markdown",
   "id": "57627dd0",
   "metadata": {},
   "source": [
    "# Parent Class: Polygon\n",
    "* Create a method called perimeter"
   ]
  },
  {
   "cell_type": "code",
   "execution_count": 1,
   "id": "07cbb387",
   "metadata": {},
   "outputs": [],
   "source": [
    "class Polygon:\n",
    "    def __init__(self, side_length):\n",
    "        self.side_length=side_length\n",
    "    def perimeter(self):\n",
    "        return sum(self.side_length)"
   ]
  },
  {
   "cell_type": "code",
   "execution_count": 2,
   "id": "34de9649",
   "metadata": {},
   "outputs": [
    {
     "name": "stdout",
     "output_type": "stream",
     "text": [
      "23\n"
     ]
    }
   ],
   "source": [
    "some_shape=Polygon([1,3,5,6,8])\n",
    "print(some_shape.perimeter())"
   ]
  },
  {
   "cell_type": "code",
   "execution_count": 3,
   "id": "6ac872e5",
   "metadata": {},
   "outputs": [
    {
     "name": "stdout",
     "output_type": "stream",
     "text": [
      "56\n"
     ]
    }
   ],
   "source": [
    "another_shape=Polygon([23,4,5,12,5,7])\n",
    "print(another_shape.perimeter())"
   ]
  },
  {
   "cell_type": "markdown",
   "id": "ee1a1b6b",
   "metadata": {},
   "source": [
    "# child class: triangle\n",
    "* calculate the perimeter and area"
   ]
  },
  {
   "cell_type": "code",
   "execution_count": 10,
   "id": "4d947a56",
   "metadata": {},
   "outputs": [],
   "source": [
    "class Triangle(Polygon):\n",
    "    def __init__(self, side_length):\n",
    "        super().__init__(side_length)\n",
    "    def area(self):\n",
    "        a,b,c=self.side_length #Unpacking the input variables\n",
    "        s=(a+b+c)/2\n",
    "        return (s*(s-a)*(s-b)*(s-c))**.5"
   ]
  },
  {
   "cell_type": "code",
   "execution_count": 13,
   "id": "48c40dc5",
   "metadata": {},
   "outputs": [
    {
     "name": "stdout",
     "output_type": "stream",
     "text": [
      "The perimeter is 12\n",
      "The area is 6\n"
     ]
    }
   ],
   "source": [
    "a_triangle=Triangle([3,4,5])\n",
    "print(f\"The perimeter is {a_triangle.perimeter()}\")\n",
    "print(f\"The area is {round(a_triangle.area())}\")"
   ]
  },
  {
   "cell_type": "markdown",
   "id": "b502f15f",
   "metadata": {},
   "source": [
    "# child class: square\n",
    "* calculate the perimeter and area"
   ]
  },
  {
   "cell_type": "code",
   "execution_count": 16,
   "id": "24fc649e",
   "metadata": {},
   "outputs": [],
   "source": [
    "class Square(Polygon):\n",
    "    def __init__(self, side_length):\n",
    "        super().__init__(side_length)\n",
    "    def area(self):\n",
    "        a,b,c,d=self.side_length\n",
    "        return a**2 #all sides have the same value"
   ]
  },
  {
   "cell_type": "code",
   "execution_count": 17,
   "id": "c519a0b0",
   "metadata": {},
   "outputs": [
    {
     "name": "stdout",
     "output_type": "stream",
     "text": [
      "The perimeter is 8\n",
      "The area is 4\n"
     ]
    }
   ],
   "source": [
    "a_square=Square([2,2,2,2])\n",
    "print(f\"The perimeter is {a_square.perimeter()}\")\n",
    "print(f\"The area is {a_square.area()}\")"
   ]
  },
  {
   "cell_type": "markdown",
   "id": "70e2c8b1",
   "metadata": {},
   "source": [
    "# child class: rectangle\n",
    "* calculate the perimeter and area"
   ]
  },
  {
   "cell_type": "code",
   "execution_count": 18,
   "id": "691ad566",
   "metadata": {},
   "outputs": [],
   "source": [
    "class Rectangle(Polygon):\n",
    "    def __init__(self, side_length):\n",
    "        super().__init__(side_length)\n",
    "    def area(self):\n",
    "        a,b,c,d=self.side_length\n",
    "        if a!=b:\n",
    "            result=a*b\n",
    "        elif a!=c:\n",
    "            result=a*c\n",
    "        else:\n",
    "            result=a*d\n",
    "        return result"
   ]
  },
  {
   "cell_type": "code",
   "execution_count": 21,
   "id": "cbf0fcdb",
   "metadata": {},
   "outputs": [
    {
     "name": "stdout",
     "output_type": "stream",
     "text": [
      "The perimeter is 10\n",
      "The area is 6\n"
     ]
    }
   ],
   "source": [
    "a_rectangle=Rectangle([2,3,3,2])\n",
    "print(f\"The perimeter is {a_rectangle.perimeter()}\")\n",
    "print(f\"The area is {a_rectangle.area()}\")"
   ]
  },
  {
   "cell_type": "markdown",
   "id": "5b594c20",
   "metadata": {},
   "source": [
    "### Practice: Create a class named Person, with firstname and lastname properties, and a printname method:"
   ]
  },
  {
   "cell_type": "code",
   "execution_count": 35,
   "id": "681edaaf",
   "metadata": {},
   "outputs": [],
   "source": [
    "class Person:\n",
    "    def __init__(self, first_name, last_name):\n",
    "        self.first_name=first_name\n",
    "        self.last_name=last_name\n",
    "    def print_name(self):\n",
    "        print(f\"Fullname: {self.first_name} {self.last_name}\")"
   ]
  },
  {
   "cell_type": "code",
   "execution_count": 36,
   "id": "9d3a0e56",
   "metadata": {},
   "outputs": [
    {
     "name": "stdout",
     "output_type": "stream",
     "text": [
      "Fullname: John Smith\n",
      "Fullname: Annita Caroll\n"
     ]
    }
   ],
   "source": [
    "person1=Person(\"John\", \"Smith\")\n",
    "person2=Person(\"Annita\", \"Caroll\")\n",
    "person1.print_name()\n",
    "person2.print_name()"
   ]
  },
  {
   "cell_type": "code",
   "execution_count": null,
   "id": "b75d7a0a",
   "metadata": {},
   "outputs": [],
   "source": []
  },
  {
   "cell_type": "markdown",
   "id": "a8023470",
   "metadata": {},
   "source": [
    "### Create child classes called Student using Inheritance contains the first and last name and the graduation year \n",
    "- Add a method called `welcome` that prints the student graduation year\n",
    "- Test the student method for two students"
   ]
  },
  {
   "cell_type": "code",
   "execution_count": 43,
   "id": "8a1571d5",
   "metadata": {},
   "outputs": [],
   "source": [
    "class Student(Person):\n",
    "    def __init__(self, first_name, last_name, year):\n",
    "        super().__init__(first_name, last_name)\n",
    "        self.year=year\n",
    "    def welcome(self):\n",
    "        print(f\"Welcome, {self.first_name} {self.last_name} to the class of {self.year}\")"
   ]
  },
  {
   "cell_type": "code",
   "execution_count": 44,
   "id": "5816f6a4",
   "metadata": {},
   "outputs": [
    {
     "name": "stdout",
     "output_type": "stream",
     "text": [
      "Fullname: John Smith\n",
      "Welcome, John Smith to the class of 2027\n"
     ]
    }
   ],
   "source": [
    "student1=Student(\"John\", \"Smith\", 2027)\n",
    "student1.print_name()\n",
    "student1.welcome()"
   ]
  },
  {
   "cell_type": "markdown",
   "id": "5f8fb2d2",
   "metadata": {},
   "source": [
    "# Use inheritance to create the square class from parent class rectangle"
   ]
  },
  {
   "cell_type": "markdown",
   "id": "ae7ca8da",
   "metadata": {},
   "source": [
    "### Create a parent class rectangle and two methods called area and perimeter"
   ]
  },
  {
   "cell_type": "code",
   "execution_count": 32,
   "id": "cc345514",
   "metadata": {},
   "outputs": [],
   "source": [
    "class Rectangle():\n",
    "    def __init__(self,length,width):\n",
    "        self.length=length\n",
    "        self.width=width\n",
    "    def area(self):\n",
    "        return self.length*self.width\n",
    "    def perimeter(self):\n",
    "        return 2*(self.length+self.width)"
   ]
  },
  {
   "cell_type": "markdown",
   "id": "d900483d",
   "metadata": {},
   "source": [
    "### Create a child class square and test for two classes, do method overloading for area and perimeter"
   ]
  },
  {
   "cell_type": "code",
   "execution_count": 33,
   "id": "a086f8c7",
   "metadata": {},
   "outputs": [],
   "source": [
    "class Square(Rectangle):\n",
    "    def __init__(self,length):\n",
    "        super().__init__(length,length)"
   ]
  },
  {
   "cell_type": "code",
   "execution_count": 34,
   "id": "4eafae79",
   "metadata": {},
   "outputs": [
    {
     "name": "stdout",
     "output_type": "stream",
     "text": [
      "16\n",
      "16\n"
     ]
    }
   ],
   "source": [
    "square1=Square(4)\n",
    "print(square1.area())\n",
    "print(square1.perimeter())"
   ]
  },
  {
   "cell_type": "markdown",
   "id": "e0fa08b5",
   "metadata": {},
   "source": [
    "#### Inheritance Practice"
   ]
  },
  {
   "cell_type": "code",
   "execution_count": 8,
   "id": "c590db5d",
   "metadata": {},
   "outputs": [],
   "source": [
    "class Parent_class():\n",
    "    def __init__(self, name, eye_color, hair_color):\n",
    "        self.name=name\n",
    "        self.eye_color=eye_color\n",
    "        self.hair_color=hair_color\n",
    "    def describe(self):\n",
    "        print(f\"{self.name} has {self.eye_color} eyes and {self.hair_color} hair.\")"
   ]
  },
  {
   "cell_type": "code",
   "execution_count": 14,
   "id": "f47c8592",
   "metadata": {},
   "outputs": [
    {
     "name": "stdout",
     "output_type": "stream",
     "text": [
      "Sally Smith has Blue eyes and Brown hair.\n",
      "John Williams has Green eyes and Black hair.\n"
     ]
    }
   ],
   "source": [
    "parent1=Parent_class(\"Sally Smith\", \"Blue\", \"Brown\")\n",
    "parent2=Parent_class(\"John Williams\", \"Green\", \"Black\")\n",
    "parent1.describe()\n",
    "parent2.describe()"
   ]
  },
  {
   "cell_type": "code",
   "execution_count": 19,
   "id": "5e2b71f1",
   "metadata": {},
   "outputs": [],
   "source": [
    "class Child_class(Parent_class):\n",
    "    def __init__(self, name, eye_color, hair_color, hobby1, hobby2):\n",
    "        super().__init__(name, eye_color, hair_color)\n",
    "        self.hobby1=hobby1\n",
    "        self.hobby2=hobby2\n",
    "    def hobbies(self):\n",
    "        print(f\"{self.name} likes to {self.hobby1} and {self.hobby2}.\")"
   ]
  },
  {
   "cell_type": "code",
   "execution_count": 20,
   "id": "78d2349a",
   "metadata": {},
   "outputs": [
    {
     "name": "stdout",
     "output_type": "stream",
     "text": [
      "Emma has Brown eyes and Red hair.\n",
      "Emma likes to draw and read.\n",
      "\n",
      "James has Blue eyes and Black hair.\n",
      "James likes to play chess and swim.\n"
     ]
    }
   ],
   "source": [
    "child1=Child_class(\"Emma\", \"Brown\", \"Red\", \"draw\", \"read\")\n",
    "child2=Child_class(\"James\", \"Blue\", \"Black\", \"play chess\", \"swim\")\n",
    "child1.describe()\n",
    "child1.hobbies()\n",
    "print()\n",
    "child2.describe()\n",
    "child2.hobbies()"
   ]
  },
  {
   "cell_type": "markdown",
   "id": "bb7f0110",
   "metadata": {},
   "source": [
    "# Lambda Function"
   ]
  },
  {
   "cell_type": "code",
   "execution_count": 1,
   "id": "e5044d82",
   "metadata": {},
   "outputs": [],
   "source": [
    "# The identity function returns the arguement\n",
    "def identity(x):\n",
    "    return x"
   ]
  },
  {
   "cell_type": "code",
   "execution_count": 2,
   "id": "59ebf199",
   "metadata": {},
   "outputs": [
    {
     "data": {
      "text/plain": [
       "3"
      ]
     },
     "execution_count": 2,
     "metadata": {},
     "output_type": "execute_result"
    }
   ],
   "source": [
    "identity(3)"
   ]
  },
  {
   "cell_type": "markdown",
   "id": "4aebc383",
   "metadata": {},
   "source": [
    "### A lambda function construction:\n",
    "lambda arguement(s):expression"
   ]
  },
  {
   "cell_type": "code",
   "execution_count": 4,
   "id": "eb8e3579",
   "metadata": {},
   "outputs": [
    {
     "data": {
      "text/plain": [
       "2"
      ]
     },
     "execution_count": 4,
     "metadata": {},
     "output_type": "execute_result"
    }
   ],
   "source": [
    "(lambda x:x)(2) #lambda arguement:expression(input) #the expression returns value"
   ]
  },
  {
   "cell_type": "code",
   "execution_count": 5,
   "id": "939bf9c6",
   "metadata": {},
   "outputs": [
    {
     "data": {
      "text/plain": [
       "4"
      ]
     },
     "execution_count": 5,
     "metadata": {},
     "output_type": "execute_result"
    }
   ],
   "source": [
    "(lambda x:x+1)(3)"
   ]
  },
  {
   "cell_type": "code",
   "execution_count": 6,
   "id": "1e767429",
   "metadata": {},
   "outputs": [],
   "source": [
    "#as lambda is a function, we can store it to a variable\n",
    "add_one=lambda x:x+1"
   ]
  },
  {
   "cell_type": "code",
   "execution_count": 8,
   "id": "4922a29b",
   "metadata": {},
   "outputs": [
    {
     "data": {
      "text/plain": [
       "4"
      ]
     },
     "execution_count": 8,
     "metadata": {},
     "output_type": "execute_result"
    }
   ],
   "source": [
    "add_one(3)"
   ]
  },
  {
   "cell_type": "markdown",
   "id": "f601f5d4",
   "metadata": {},
   "source": [
    "### Common use of the lambda function\n",
    "- It is used with iterables which is a series of values\n",
    "- The iterables are list, dictionary, tuple, strings, etc.\n",
    "- Two common functions that work with lambda functiion are `filter()`, `map()`"
   ]
  },
  {
   "cell_type": "markdown",
   "id": "3c457a38",
   "metadata": {},
   "source": [
    "### `filter()` - filters through certain values"
   ]
  },
  {
   "cell_type": "markdown",
   "id": "f7f2d67a",
   "metadata": {},
   "source": [
    "#### Example: we have a list [1,2,3,4,5,6,7,8,9,10]. We are only interested in even numbers"
   ]
  },
  {
   "cell_type": "code",
   "execution_count": 10,
   "id": "426a46fa",
   "metadata": {},
   "outputs": [
    {
     "data": {
      "text/plain": [
       "[2, 4, 6, 8, 10]"
      ]
     },
     "execution_count": 10,
     "metadata": {},
     "output_type": "execute_result"
    }
   ],
   "source": [
    "list1=[1,2,3,4,5,6,7,8,9,10]\n",
    "list(filter(lambda x:x%2==0, list1))"
   ]
  },
  {
   "cell_type": "code",
   "execution_count": 13,
   "id": "f15fe372",
   "metadata": {},
   "outputs": [
    {
     "data": {
      "text/plain": [
       "[1, 3, 5, 7, 9]"
      ]
     },
     "execution_count": 13,
     "metadata": {},
     "output_type": "execute_result"
    }
   ],
   "source": [
    "#Filter the odd numbers\n",
    "list(filter(lambda x:x%2==1, list1))"
   ]
  },
  {
   "cell_type": "code",
   "execution_count": 14,
   "id": "e174bd07",
   "metadata": {},
   "outputs": [
    {
     "data": {
      "text/plain": [
       "[3, 6, 9]"
      ]
     },
     "execution_count": 14,
     "metadata": {},
     "output_type": "execute_result"
    }
   ],
   "source": [
    "#Filter the number multiple of three\n",
    "list(filter(lambda x:x%3==0, list1))"
   ]
  },
  {
   "cell_type": "markdown",
   "id": "cc6ab89d",
   "metadata": {},
   "source": [
    "### `map()` - use whenever you want to update/modify every value in an iterable"
   ]
  },
  {
   "cell_type": "code",
   "execution_count": 15,
   "id": "f6389fa6",
   "metadata": {},
   "outputs": [
    {
     "data": {
      "text/plain": [
       "[1, 4, 9, 16, 25, 36, 49, 64, 81, 100]"
      ]
     },
     "execution_count": 15,
     "metadata": {},
     "output_type": "execute_result"
    }
   ],
   "source": [
    "#Create a new list of a power of 2\n",
    "list1=[1,2,3,4,5,6,7,8,9,10]\n",
    "list(map(lambda x:pow(x,2), list1))"
   ]
  },
  {
   "cell_type": "code",
   "execution_count": 16,
   "id": "91fa1442",
   "metadata": {},
   "outputs": [
    {
     "data": {
      "text/plain": [
       "[1, 8, 27, 64, 125, 216, 343, 512, 729, 1000]"
      ]
     },
     "execution_count": 16,
     "metadata": {},
     "output_type": "execute_result"
    }
   ],
   "source": [
    "#Cube of each number\n",
    "list(map(lambda x:pow(x,3), list1))"
   ]
  },
  {
   "cell_type": "markdown",
   "id": "0b6fc1fe",
   "metadata": {},
   "source": [
    "## Example"
   ]
  },
  {
   "cell_type": "code",
   "execution_count": 18,
   "id": "d4ea10ec",
   "metadata": {},
   "outputs": [
    {
     "data": {
      "text/plain": [
       "6"
      ]
     },
     "execution_count": 18,
     "metadata": {},
     "output_type": "execute_result"
    }
   ],
   "source": [
    "(lambda x,y,z:x+y+z)(1,2,3)"
   ]
  },
  {
   "cell_type": "code",
   "execution_count": 26,
   "id": "6d301102",
   "metadata": {},
   "outputs": [
    {
     "data": {
      "text/plain": [
       "5"
      ]
     },
     "execution_count": 26,
     "metadata": {},
     "output_type": "execute_result"
    }
   ],
   "source": [
    "(lambda x,y,z=2:x+y+z)(1,2) #z has a default value"
   ]
  },
  {
   "cell_type": "code",
   "execution_count": 23,
   "id": "fd524786",
   "metadata": {},
   "outputs": [
    {
     "data": {
      "text/plain": [
       "3"
      ]
     },
     "execution_count": 23,
     "metadata": {},
     "output_type": "execute_result"
    }
   ],
   "source": [
    "(lambda x,y,z=2:x+y+z)(1,2,0) #z is updated/overridden"
   ]
  },
  {
   "cell_type": "code",
   "execution_count": 25,
   "id": "2a2fc7f9",
   "metadata": {},
   "outputs": [
    {
     "data": {
      "text/plain": [
       "23"
      ]
     },
     "execution_count": 25,
     "metadata": {},
     "output_type": "execute_result"
    }
   ],
   "source": [
    "(lambda *args:sum(args))(1,2,3,4,5,8)"
   ]
  },
  {
   "cell_type": "markdown",
   "id": "50410ce4",
   "metadata": {},
   "source": [
    "## Exception handling"
   ]
  },
  {
   "cell_type": "code",
   "execution_count": 27,
   "id": "96a627be",
   "metadata": {},
   "outputs": [
    {
     "ename": "ZeroDivisionError",
     "evalue": "division by zero",
     "output_type": "error",
     "traceback": [
      "\u001b[1;31m---------------------------------------------------------------------------\u001b[0m",
      "\u001b[1;31mZeroDivisionError\u001b[0m                         Traceback (most recent call last)",
      "\u001b[1;32m~\\AppData\\Local\\Temp\\ipykernel_5748\\1152173066.py\u001b[0m in \u001b[0;36m<module>\u001b[1;34m\u001b[0m\n\u001b[1;32m----> 1\u001b[1;33m \u001b[0mprint\u001b[0m\u001b[1;33m(\u001b[0m\u001b[1;36m5\u001b[0m\u001b[1;33m/\u001b[0m\u001b[1;36m0\u001b[0m\u001b[1;33m)\u001b[0m\u001b[1;33m\u001b[0m\u001b[1;33m\u001b[0m\u001b[0m\n\u001b[0m",
      "\u001b[1;31mZeroDivisionError\u001b[0m: division by zero"
     ]
    }
   ],
   "source": [
    "print(5/0)"
   ]
  },
  {
   "cell_type": "code",
   "execution_count": 28,
   "id": "0512aae0",
   "metadata": {},
   "outputs": [
    {
     "ename": "TypeError",
     "evalue": "unsupported operand type(s) for +: 'int' and 'str'",
     "output_type": "error",
     "traceback": [
      "\u001b[1;31m---------------------------------------------------------------------------\u001b[0m",
      "\u001b[1;31mTypeError\u001b[0m                                 Traceback (most recent call last)",
      "\u001b[1;32m~\\AppData\\Local\\Temp\\ipykernel_5748\\522457072.py\u001b[0m in \u001b[0;36m<module>\u001b[1;34m\u001b[0m\n\u001b[0;32m      1\u001b[0m \u001b[0mx\u001b[0m\u001b[1;33m=\u001b[0m\u001b[1;36m5\u001b[0m\u001b[1;33m\u001b[0m\u001b[1;33m\u001b[0m\u001b[0m\n\u001b[0;32m      2\u001b[0m \u001b[0my\u001b[0m\u001b[1;33m=\u001b[0m\u001b[1;34m\"Hello\"\u001b[0m\u001b[1;33m\u001b[0m\u001b[1;33m\u001b[0m\u001b[0m\n\u001b[1;32m----> 3\u001b[1;33m \u001b[0mz\u001b[0m\u001b[1;33m=\u001b[0m\u001b[0mx\u001b[0m\u001b[1;33m+\u001b[0m\u001b[0my\u001b[0m\u001b[1;33m\u001b[0m\u001b[1;33m\u001b[0m\u001b[0m\n\u001b[0m",
      "\u001b[1;31mTypeError\u001b[0m: unsupported operand type(s) for +: 'int' and 'str'"
     ]
    }
   ],
   "source": [
    "x=5\n",
    "y=\"Hello\"\n",
    "z=x+y"
   ]
  },
  {
   "cell_type": "code",
   "execution_count": 29,
   "id": "94881a67",
   "metadata": {},
   "outputs": [
    {
     "name": "stdout",
     "output_type": "stream",
     "text": [
      "Error: cannot add int and str\n"
     ]
    }
   ],
   "source": [
    "x=5\n",
    "y=\"Hello\"\n",
    "\n",
    "try:\n",
    "    z=x+y\n",
    "except TypeError:\n",
    "    print(\"Error: cannot add int and str\")"
   ]
  },
  {
   "cell_type": "code",
   "execution_count": 30,
   "id": "a77ad49e",
   "metadata": {},
   "outputs": [
    {
     "ename": "IndexError",
     "evalue": "list index out of range",
     "output_type": "error",
     "traceback": [
      "\u001b[1;31m---------------------------------------------------------------------------\u001b[0m",
      "\u001b[1;31mIndexError\u001b[0m                                Traceback (most recent call last)",
      "\u001b[1;32m~\\AppData\\Local\\Temp\\ipykernel_5748\\4055570827.py\u001b[0m in \u001b[0;36m<module>\u001b[1;34m\u001b[0m\n\u001b[0;32m      1\u001b[0m \u001b[0mlist1\u001b[0m\u001b[1;33m=\u001b[0m\u001b[1;33m[\u001b[0m\u001b[1;36m1\u001b[0m\u001b[1;33m,\u001b[0m\u001b[1;36m2\u001b[0m\u001b[1;33m,\u001b[0m\u001b[1;36m3\u001b[0m\u001b[1;33m]\u001b[0m\u001b[1;33m\u001b[0m\u001b[1;33m\u001b[0m\u001b[0m\n\u001b[1;32m----> 2\u001b[1;33m \u001b[0mprint\u001b[0m\u001b[1;33m(\u001b[0m\u001b[1;34m\"Fourth variable: \"\u001b[0m\u001b[1;33m,\u001b[0m \u001b[0mlist1\u001b[0m\u001b[1;33m[\u001b[0m\u001b[1;36m3\u001b[0m\u001b[1;33m]\u001b[0m\u001b[1;33m)\u001b[0m\u001b[1;33m\u001b[0m\u001b[1;33m\u001b[0m\u001b[0m\n\u001b[0m",
      "\u001b[1;31mIndexError\u001b[0m: list index out of range"
     ]
    }
   ],
   "source": [
    "list1=[1,2,3]\n",
    "print(\"Fourth variable: \", list1[3])"
   ]
  },
  {
   "cell_type": "code",
   "execution_count": 31,
   "id": "8c56b942",
   "metadata": {},
   "outputs": [
    {
     "name": "stdout",
     "output_type": "stream",
     "text": [
      "Second variable:  2\n",
      "An error occured\n"
     ]
    }
   ],
   "source": [
    "list1=[1,2,3]\n",
    "\n",
    "try:\n",
    "    print(\"Second variable: \", list1[1])\n",
    "    print(\"Fourth variable: \", list1[3])\n",
    "except:\n",
    "    print(\"An error occured\")"
   ]
  },
  {
   "cell_type": "code",
   "execution_count": 35,
   "id": "2b49dbf6",
   "metadata": {},
   "outputs": [
    {
     "name": "stdout",
     "output_type": "stream",
     "text": [
      "-5.0\n",
      "a/b results in division by 0\n"
     ]
    }
   ],
   "source": [
    "def test(a,b):\n",
    "    try:\n",
    "        c=(a+b)/(a-b)\n",
    "    except:\n",
    "        print(\"a/b results in division by 0\") #if a==b\n",
    "    else:\n",
    "        print(c)\n",
    "test(2,3)\n",
    "test(3,3)"
   ]
  },
  {
   "cell_type": "markdown",
   "id": "3bdcfd1c",
   "metadata": {},
   "source": [
    "## Create a simple calculator using classes\n",
    "* (IP7)"
   ]
  },
  {
   "cell_type": "code",
   "execution_count": 51,
   "id": "6ab4b4b1",
   "metadata": {
    "scrolled": true
   },
   "outputs": [
    {
     "name": "stdout",
     "output_type": "stream",
     "text": [
      "Enter first number: 35\n",
      "Enter second number: 24\n",
      "\n",
      "0. Exit\n",
      "1. Addition\n",
      "2. Subtraction\n",
      "3. Multiplication\n",
      "4. Division\n",
      "Enter your choice..... 0\n",
      "Exit\n",
      "\n"
     ]
    }
   ],
   "source": [
    "class calculator():\n",
    "    def __init__(self, input1, input2):\n",
    "        self.input1=input1\n",
    "        self.input2=input2\n",
    "    def addition(self):\n",
    "        return self.input1+self.input2\n",
    "    def subtraction(self):\n",
    "        return self.input1-self.input2\n",
    "    def multiplication(self):\n",
    "        return self.input1*self.input2\n",
    "    def division(self):\n",
    "        return self.input1/self.input2\n",
    "input_1=int(input(\"Enter first number: \"))\n",
    "input_2=int(input(\"Enter second number: \"))\n",
    "my_calc=calculator(input_1, input_2)\n",
    "\n",
    "choice=1\n",
    "while choice!=0:\n",
    "    print()\n",
    "    print(\"0. Exit\")\n",
    "    print(\"1. Addition\")\n",
    "    print(\"2. Subtraction\")\n",
    "    print(\"3. Multiplication\")\n",
    "    print(\"4. Division\")\n",
    "    choice=int(input(\"Enter your choice..... \"))\n",
    "    \n",
    "    if choice==1:\n",
    "        print(f\"Result: {my_calc.addition()}\")\n",
    "    elif choice==2:\n",
    "        print(f\"Result: {my_calc.subtraction()}\")\n",
    "    elif choice==3:\n",
    "        print(f\"Result: {my_calc.multiplication()}\")\n",
    "    elif choice==4:\n",
    "        print(f\"Result: {my_calc.division()}\")\n",
    "    elif choice==0:\n",
    "        print(\"Exit\")\n",
    "    else:\n",
    "        print(\"Sorry, invalid choice\")\n",
    "print()"
   ]
  },
  {
   "cell_type": "code",
   "execution_count": null,
   "id": "a7a954a0",
   "metadata": {},
   "outputs": [],
   "source": []
  },
  {
   "cell_type": "code",
   "execution_count": null,
   "id": "39c3dee9",
   "metadata": {},
   "outputs": [],
   "source": []
  },
  {
   "cell_type": "markdown",
   "id": "0ec161b5",
   "metadata": {},
   "source": [
    "## ATM machine "
   ]
  },
  {
   "cell_type": "code",
   "execution_count": 39,
   "id": "267c3e25",
   "metadata": {},
   "outputs": [],
   "source": [
    "class Bank_account:\n",
    "    def __init__(self):\n",
    "        self.balance=0\n",
    "        print(\"Hello! Welcome to the ATM\")\n",
    "    def deposit(self):\n",
    "        amount=float(input(\"Enter the amount you want to deposit: \"))\n",
    "        self.balance+=amount\n",
    "        print(\"\\n Amount deposited: \", amount)\n",
    "    def withdraw(self):\n",
    "        amount=float(input(\"Enter the amount you want to withdraw: \"))\n",
    "        if self.balance>=amount:\n",
    "            self.balance-=amount\n",
    "            print(\"\\n You withdrew\", amount)\n",
    "        else:\n",
    "            print(\"\\n Insufficient Balance\")\n",
    "    def display(self):\n",
    "        print(\"The available balance is\", self.balance)"
   ]
  },
  {
   "cell_type": "code",
   "execution_count": 40,
   "id": "a6e40459",
   "metadata": {},
   "outputs": [
    {
     "name": "stdout",
     "output_type": "stream",
     "text": [
      "Hello! Welcome to the ATM\n",
      "The available balance is 0\n"
     ]
    }
   ],
   "source": [
    "sams_account=Bank_account()\n",
    "sams_account.display()"
   ]
  },
  {
   "cell_type": "code",
   "execution_count": 41,
   "id": "5349965d",
   "metadata": {},
   "outputs": [
    {
     "name": "stdout",
     "output_type": "stream",
     "text": [
      "Enter the amount you want to deposit: 500\n",
      "\n",
      " Amount deposited:  500.0\n"
     ]
    }
   ],
   "source": [
    "#Deposit\n",
    "sams_account.deposit()"
   ]
  },
  {
   "cell_type": "code",
   "execution_count": 42,
   "id": "e96cdbd5",
   "metadata": {},
   "outputs": [
    {
     "name": "stdout",
     "output_type": "stream",
     "text": [
      "The available balance is 500.0\n"
     ]
    }
   ],
   "source": [
    "sams_account.display()"
   ]
  },
  {
   "cell_type": "code",
   "execution_count": 44,
   "id": "fca58e35",
   "metadata": {},
   "outputs": [
    {
     "name": "stdout",
     "output_type": "stream",
     "text": [
      "Enter the amount you want to withdraw: 200\n",
      "\n",
      " You withdrew 200.0\n"
     ]
    }
   ],
   "source": [
    "#Withdraw\n",
    "sams_account.withdraw()"
   ]
  },
  {
   "cell_type": "code",
   "execution_count": 45,
   "id": "29f6874a",
   "metadata": {},
   "outputs": [
    {
     "name": "stdout",
     "output_type": "stream",
     "text": [
      "The available balance is 300.0\n"
     ]
    }
   ],
   "source": [
    "sams_account.display()"
   ]
  },
  {
   "cell_type": "code",
   "execution_count": null,
   "id": "1237a1f8",
   "metadata": {},
   "outputs": [],
   "source": []
  }
 ],
 "metadata": {
  "kernelspec": {
   "display_name": "Python 3 (ipykernel)",
   "language": "python",
   "name": "python3"
  },
  "language_info": {
   "codemirror_mode": {
    "name": "ipython",
    "version": 3
   },
   "file_extension": ".py",
   "mimetype": "text/x-python",
   "name": "python",
   "nbconvert_exporter": "python",
   "pygments_lexer": "ipython3",
   "version": "3.9.13"
  }
 },
 "nbformat": 4,
 "nbformat_minor": 5
}
